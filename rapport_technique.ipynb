{
 "cells": [
  {
   "cell_type": "markdown",
   "metadata": {},
   "source": [
    "**Lilian JAOUANNE**\n",
    "\n",
    "**Bastian GARÇON**\n",
    "\n",
    "Mecatro 3A FISA Promo 2026"
   ]
  },
  {
   "cell_type": "markdown",
   "metadata": {},
   "source": [
    "# Base de Données sur la Qualité des Vins de Vinho Verde"
   ]
  },
  {
   "cell_type": "markdown",
   "metadata": {},
   "source": [
    "## Origine des données"
   ]
  },
  {
   "cell_type": "markdown",
   "metadata": {},
   "source": [
    "Les données sont extraites de l'[UCI Machine Learning Repository](https://archive.ics.uci.edu) et se rapportent spécifiquement aux variantes rouge et blanche des vins de Vinho Verde, une région notable du Portugal."
   ]
  },
  {
   "cell_type": "markdown",
   "metadata": {},
   "source": [
    "## Composition de la Base de Données"
   ]
  },
  {
   "cell_type": "markdown",
   "metadata": {},
   "source": [
    "La base de données se divise en deux ensembles distincts, l'un pour les vins rouges et l'autre pour les vins blancs. Chaque ensemble comprend plusieurs variables qui mesurent les caractéristiques physicochimiques des vins ainsi que leur qualité sensorielle évaluée :\n",
    "- Fixed Acidity: Acidité totale du vin, incluant les acides fixes et volatils.\n",
    "- Volatile Acidity: Concentration en acide acétique, influant sur le goût vinaigré du vin.\n",
    "- Citric Acid: Acidité apportée par l'ajout d'acide citrique, ajustant l'acidité des vins.\n",
    "- Residual Sugar: Quantité de sucre restant post-fermentation.\n",
    "- Chlorides: Teneur en chlorures, ou sel, du vin.\n",
    "- Free Sulfur Dioxide: Quantité de dioxyde de soufre libre, prévenant l'oxydation et la croissance microbienne.\n",
    "- Total Sulfur Dioxide: Totalité du dioxyde de soufre présent dans le vin.\n",
    "- Density: Densité du vin, souvent liée à sa teneur en alcool.\n",
    "- pH: Indice de l'acidité ou basicité du vin.\n",
    "- Sulphates: Taux de sulfates ajoutés, augmentant le SO2 et aidant à la conservation du vin.\n",
    "- Alcohol: Pourcentage d'alcool contenu dans le vin.\n",
    "- Quality: Note de qualité attribuée par des dégustateurs, sur une échelle de 0 à 10."
   ]
  },
  {
   "cell_type": "markdown",
   "metadata": {},
   "source": [
    "## Problématiques Principales"
   ]
  },
  {
   "cell_type": "markdown",
   "metadata": {},
   "source": [
    "### 1. Identification des Variables Influant sur la Densité"
   ]
  },
  {
   "cell_type": "markdown",
   "metadata": {},
   "source": [
    "- **Objectif** : Détecter les variables physicochimiques qui influencent significativement la densité du vin, pour les vins rouges et blancs.\n",
    "- **Approche** : Sélection de variables pertinentes à travers des techniques statistiques pour minimiser le bruit et se concentrer sur les contributeurs clés à la densité du vin."
   ]
  },
  {
   "cell_type": "markdown",
   "metadata": {},
   "source": [
    "### 2. Comparaison des Distributions de Variables Spécifiques"
   ]
  },
  {
   "cell_type": "markdown",
   "metadata": {},
   "source": [
    "- **Objectif** : Examiner comment les distributions des variables telles que le pH, la densité, et l'acidité volatile varient entre les vins rouges et blancs.\n",
    "- **Approche** : Utilisation de tests de normalité et d'analyse de variance (ANOVA) pour évaluer les différences statistiques entre les deux types de vin."
   ]
  },
  {
   "cell_type": "markdown",
   "metadata": {},
   "source": [
    "### 3. Modélisation de la Densité du Vin"
   ]
  },
  {
   "cell_type": "markdown",
   "metadata": {},
   "source": [
    "- **Objectif** : Construire un modèle de régression linéaire multiple pour prédire la densité du vin à partir des variables sélectionnées, et comparer les modèles pour les vins rouges contre les vins blancs.\n",
    "- **Approche** : Développement et validation d'un modèle de régression, évaluation de la précision et des performances du modèle, et analyse des interactions entre les variables."
   ]
  },
  {
   "cell_type": "markdown",
   "metadata": {},
   "source": [
    "### 4. Analyse des Associations entre Qualité du Vin et Autres Variables Catégorielles"
   ]
  },
  {
   "cell_type": "markdown",
   "metadata": {},
   "source": [
    "- **Objectif** : Investiguer s'il existe des associations significatives entre les catégories de qualité du vin et d'autres variables catégorielles.\n",
    "- **Approche** : Utilisation de tests statistiques pour évaluer l'association entre variables catégorielles et la qualité perçue du vin."
   ]
  },
  {
   "cell_type": "markdown",
   "metadata": {},
   "source": [
    "# Mise en pratique"
   ]
  },
  {
   "cell_type": "markdown",
   "metadata": {},
   "source": [
    "## Librairies à importer"
   ]
  },
  {
   "cell_type": "markdown",
   "metadata": {},
   "source": [
    "Avant toute chose, nous devons importer ces librairies :\n",
    "- _Pandas_ : pour la partie dataframes\n",
    "- _numpy_ : pour les tableaux\n",
    "- _pyplot_ de _matplotlib_ : pour une visualisation graphique\n",
    "- _seaborn_ : pour la visualisation de données\n",
    "- _statmodels.api_ : pour le test ANOVA\n",
    "- _shapiro_ de _scipy.stats_ : pour le test Shapiro puis _scipy.stats_ pour les fonctions statistiques."
   ]
  },
  {
   "cell_type": "code",
   "execution_count": null,
   "metadata": {},
   "outputs": [],
   "source": [
    "import pandas as pd\n",
    "import numpy as np\n",
    "import matplotlib.pyplot as plt\n",
    "import seaborn as sns\n",
    "import statsmodels.api as sm\n",
    "from scipy.stats import shapiro\n",
    "import scipy.stats as stats"
   ]
  },
  {
   "cell_type": "markdown",
   "metadata": {},
   "source": [
    "## Importation des bases de données"
   ]
  },
  {
   "cell_type": "markdown",
   "metadata": {},
   "source": [
    "On importe les deux base de données grâce à _pandas_"
   ]
  },
  {
   "cell_type": "code",
   "execution_count": null,
   "metadata": {},
   "outputs": [],
   "source": [
    "num_data_red = pd.read_csv(\"Bases de données/winequality-red.csv\", sep=';', decimal='.')\n",
    "num_data_white = pd.read_csv(\"Bases de données/winequality-white.csv\", sep=';', decimal='.')"
   ]
  },
  {
   "cell_type": "markdown",
   "metadata": {},
   "source": [
    "## Table de corrélation"
   ]
  },
  {
   "cell_type": "markdown",
   "metadata": {},
   "source": [
    "On commence faire une table de corrélation pour avoir une idée des variables qui influence la densité. Pour cela nous avons crée une fonction pemettant d'afficher une heat map à partir d'une matrice de corrélation."
   ]
  },
  {
   "cell_type": "code",
   "execution_count": null,
   "metadata": {},
   "outputs": [],
   "source": [
    "def heatMap(M, title:str, center=0, vmax=1, vmin=-1):\n",
    "    plt.title(f'Table de corrélation {title}')\n",
    "    # Tracer la heatmap avec la colormap personnalisée\n",
    "    sns.heatmap(M, annot=False, cmap='coolwarm', center=center, vmax=vmax, vmin=vmin)\n",
    "    \n",
    "    # Ajouter les annotations pour chaque cellule de la heatmap\n",
    "    for i in range(len(M)):\n",
    "        for j in range(len(M)):\n",
    "            plt.text(j + 0.5, i + 0.5, '{:.2f}'.format(M.iloc[i, j]),\n",
    "                     ha='center', va='center', color='black', fontsize=9)\n",
    "    plt.show()"
   ]
  },
  {
   "cell_type": "markdown",
   "metadata": {},
   "source": [
    "Ainsi pour le vin rouge :"
   ]
  },
  {
   "cell_type": "code",
   "execution_count": null,
   "metadata": {},
   "outputs": [],
   "source": [
    "M_corr_red = num_data_red.corr()\n",
    "heatMap(M_corr_red, 'Vin rouge')"
   ]
  },
  {
   "cell_type": "markdown",
   "metadata": {},
   "source": [
    "Et le vin blanc :"
   ]
  },
  {
   "cell_type": "code",
   "execution_count": null,
   "metadata": {
    "scrolled": true
   },
   "outputs": [],
   "source": [
    "M_corr_white = num_data_white.corr()\n",
    "heatMap(M_corr_white, 'Vin blanc')"
   ]
  },
  {
   "cell_type": "code",
   "execution_count": null,
   "metadata": {},
   "outputs": [],
   "source": []
  }
 ],
 "metadata": {
  "kernelspec": {
   "display_name": "Python 3 (ipykernel)",
   "language": "python",
   "name": "python3"
  },
  "language_info": {
   "codemirror_mode": {
    "name": "ipython",
    "version": 3
   },
   "file_extension": ".py",
   "mimetype": "text/x-python",
   "name": "python",
   "nbconvert_exporter": "python",
   "pygments_lexer": "ipython3",
   "version": "3.11.7"
  }
 },
 "nbformat": 4,
 "nbformat_minor": 4
}
