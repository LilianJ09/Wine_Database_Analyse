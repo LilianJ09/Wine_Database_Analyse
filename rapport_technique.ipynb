{
 "cells": [
  {
   "cell_type": "markdown",
   "metadata": {},
   "source": [
    "**Lilian JAOUANNE**\n",
    "\n",
    "**Bastian GARÇON**\n",
    "\n",
    "Mecatro 3A FISA Promo 2026"
   ]
  },
  {
   "cell_type": "markdown",
   "metadata": {},
   "source": [
    "# Base de Données sur la Qualité des Vins de Vinho Verde"
   ]
  },
  {
   "cell_type": "markdown",
   "metadata": {},
   "source": [
    "## Origine des données"
   ]
  },
  {
   "cell_type": "markdown",
   "metadata": {},
   "source": [
    "Les données sont extraites de l'[UCI Machine Learning Repository](https://archive.ics.uci.edu) et se rapportent spécifiquement aux variantes rouge et blanche des vins de Vinho Verde, une région notable du Portugal."
   ]
  },
  {
   "cell_type": "markdown",
   "metadata": {},
   "source": [
    "## Composition de la Base de Données"
   ]
  },
  {
   "cell_type": "markdown",
   "metadata": {},
   "source": [
    "La base de données se divise en deux ensembles distincts, l'un pour les vins rouges et l'autre pour les vins blancs. Chaque ensemble comprend plusieurs variables qui mesurent les caractéristiques physicochimiques des vins ainsi que leur qualité sensorielle évaluée :\n",
    "- Fixed Acidity: Acidité totale du vin, incluant les acides fixes et volatils.\n",
    "- Volatile Acidity: Concentration en acide acétique, influant sur le goût vinaigré du vin.\n",
    "- Citric Acid: Acidité apportée par l'ajout d'acide citrique, ajustant l'acidité des vins.\n",
    "- Residual Sugar: Quantité de sucre restant post-fermentation.\n",
    "- Chlorides: Teneur en chlorures, ou sel, du vin.\n",
    "- Free Sulfur Dioxide: Quantité de dioxyde de soufre libre, prévenant l'oxydation et la croissance microbienne.\n",
    "- Total Sulfur Dioxide: Totalité du dioxyde de soufre présent dans le vin.\n",
    "- Density: Densité du vin, souvent liée à sa teneur en alcool.\n",
    "- pH: Indice de l'acidité ou basicité du vin.\n",
    "- Sulphates: Taux de sulfates ajoutés, augmentant le SO2 et aidant à la conservation du vin.\n",
    "- Alcohol: Pourcentage d'alcool contenu dans le vin.\n",
    "- Quality: Note de qualité attribuée par des dégustateurs, sur une échelle de 0 à 10."
   ]
  },
  {
   "cell_type": "markdown",
   "metadata": {},
   "source": [
    "## Problématiques Principales"
   ]
  },
  {
   "cell_type": "markdown",
   "metadata": {},
   "source": [
    "### 1. Identification des Variables Influant sur la Densité"
   ]
  },
  {
   "cell_type": "markdown",
   "metadata": {},
   "source": [
    "- **Objectif** : Détecter les variables physicochimiques qui influencent significativement la densité du vin, pour les vins rouges et blancs.\n",
    "- **Approche** : Sélection de variables pertinentes à travers des techniques statistiques pour minimiser le bruit et se concentrer sur les contributeurs clés à la densité du vin."
   ]
  },
  {
   "cell_type": "markdown",
   "metadata": {},
   "source": [
    "### 2. Modélisation de la Densité du Vin"
   ]
  },
  {
   "cell_type": "markdown",
   "metadata": {},
   "source": [
    "- **Objectif** : Construire un modèle de régression linéaire multiple pour prédire la densité du vin à partir des variables sélectionnées, et comparer les modèles pour les vins rouges contre les vins blancs.\n",
    "- **Approche** : Développement et validation d'un modèle de régression, évaluation de la précision et des performances du modèle, et analyse des interactions entre les variables."
   ]
  },
  {
   "cell_type": "markdown",
   "metadata": {},
   "source": [
    "### 3. Comparaison des Distributions de Variables Spécifiques"
   ]
  },
  {
   "cell_type": "markdown",
   "metadata": {},
   "source": [
    "- **Objectif** : Examiner comment les distributions des variables telles que le pH, la densité, et l'acidité volatile varient entre les vins rouges et blancs.\n",
    "- **Approche** : Utilisation de tests de normalité et d'analyse de variance (ANOVA) pour évaluer les différences statistiques entre les deux types de vin."
   ]
  },
  {
   "cell_type": "markdown",
   "metadata": {},
   "source": [
    "### 4. Analyse des Associations entre Qualité du Vin et Autres Variables Catégorielles"
   ]
  },
  {
   "cell_type": "markdown",
   "metadata": {},
   "source": [
    "- **Objectif** : Investiguer s'il existe des associations significatives entre les catégories de qualité du vin et d'autres variables catégorielles.\n",
    "- **Approche** : Utilisation de tests statistiques pour évaluer l'association entre variables catégorielles et la qualité perçue du vin."
   ]
  },
  {
   "cell_type": "markdown",
   "metadata": {},
   "source": [
    "# Mise en pratique"
   ]
  },
  {
   "cell_type": "markdown",
   "metadata": {},
   "source": [
    "## Librairies à importer"
   ]
  },
  {
   "cell_type": "markdown",
   "metadata": {},
   "source": [
    "Avant toute chose, nous devons importer ces librairies :\n",
    "- _Pandas_ : pour la partie dataframes\n",
    "- _numpy_ : pour les tableaux\n",
    "- _pyplot_ de _matplotlib_ : pour une visualisation graphique\n",
    "- _seaborn_ : pour la visualisation de données\n",
    "- _statmodels.api_ : pour le test ANOVA\n",
    "- _shapiro_ de _scipy.stats_ : pour le test Shapiro puis _scipy.stats_ pour les fonctions statistiques."
   ]
  },
  {
   "cell_type": "code",
   "execution_count": null,
   "metadata": {},
   "outputs": [],
   "source": [
    "import pandas as pd\n",
    "import numpy as np\n",
    "import matplotlib.pyplot as plt\n",
    "import seaborn as sns\n",
    "import statsmodels.api as sm\n",
    "from scipy.stats import shapiro\n",
    "import scipy.stats as stats"
   ]
  },
  {
   "cell_type": "markdown",
   "metadata": {},
   "source": [
    "## Importation des bases de données"
   ]
  },
  {
   "cell_type": "markdown",
   "metadata": {},
   "source": [
    "On importe les deux base de données grâce à _pandas_"
   ]
  },
  {
   "cell_type": "code",
   "execution_count": null,
   "metadata": {},
   "outputs": [],
   "source": [
    "RED_WINE = pd.read_csv(\"Bases de données/winequality-red.csv\", sep=';', decimal='.')\n",
    "WHITE_WINE = pd.read_csv(\"Bases de données/winequality-white.csv\", sep=';', decimal='.')"
   ]
  },
  {
   "cell_type": "markdown",
   "metadata": {},
   "source": [
    "# 1. Identification des Variables Influant sur la Densité"
   ]
  },
  {
   "cell_type": "markdown",
   "metadata": {},
   "source": [
    "On commence par vérifier quelles sont les variables corrélées à la densité. Pour cela on utilise la fonction suivante qui va prendre un jeu de données et supprimer les variables n'étant pas corrélées à la densité avec un risque de 5%. Pour cela on utilise la valeur **p** produite par le Test de **Pearson**. Si la valeur **p** est inférieur à 0.05 et la valeur absolue de la corrélation supérieur à 0.15, on garde la variable pour la régression linéaire multiple qui suivra."
   ]
  },
  {
   "cell_type": "code",
   "execution_count": 60,
   "execution_count": null,
   "metadata": {},
   "outputs": [],
   "source": [
    "def corr_data(data_set, variable:str):\n",
    "    # Calculer les coefficients de corrélation et les valeurs p pour chaque variable par rapport à 'variable'\n",
    "    correlations = {}\n",
    "    p_values = {}\n",
    "    variables_to_exclude = []\n",
    "\n",
    "    for column in data_set.columns:\n",
    "        if column != variable:  # éviter de comparer la varaible à corréler avec elle-même\n",
    "            corr, p_val = stats.pearsonr(data_set[column], data_set[variable])\n",
    "            correlations[column] = corr\n",
    "            p_values[column] = p_val\n",
    "        \n",
    "            if abs(corr) < 0.15 or p_val > 0.05:\n",
    "                variables_to_exclude.append(column)\n",
    "    \n",
    "    return data_set.drop(columns = variables_to_exclude)"
   ]
  },
  {
   "cell_type": "markdown",
   "metadata": {},
   "source": [
    "A présent, nous pouvons appeler la fonction pour le vin rouge et blanc. On oublie d'y enlever la variable de **qualité** qui n'est pas continue. De ce fait, elle est considérée comme une variable catégorielle. On y enlève aussi la **densité** puisque c'est la variable que l'on cherche à prédire."
   ]
  },
  {
   "cell_type": "code",
   "execution_count": 70,
   "metadata": {},
   "outputs": [],
   "source": [
    "X_density_RED = corr_data(RED_WINE, 'density')\n",
    "X_density_RED.drop(columns = ['quality', 'density'], inplace=True)\n",
    "\n",
    "X_density_WHITE = corr_data(WHITE_WINE, 'density')\n",
    "X_density_WHITE.drop(columns = ['quality', 'density'], inplace=True)\n",
    "\n",
    "# On en profite pour mettre de côté les densité\n",
    "Y_density_RED = RED_WINE['density']\n",
    "Y_density_WHITE = WHITE_WINE['density']"
   ]
  },
  {
   "cell_type": "markdown",
   "metadata": {},
   "source": [
    "Maintenant, nous avons notre jeu de donnée avec les variables qui influent le plus sur la densité. On les affiche grâce à la fonction suivante."
   ]
  },
  {
   "cell_type": "code",
   "execution_count": 62,
   "metadata": {},
   "outputs": [
    {
     "name": "stdout",
     "output_type": "stream",
     "text": [
      "Variables retenues pour la régression linéaire de la densité du :\n",
      "VIN ROUGE :\n",
      "Index(['fixed acidity', 'citric acid', 'residual sugar', 'chlorides', 'pH',\n",
      "       'alcohol'],\n",
      "      dtype='object')\n",
      "\n",
      "VIN BLANC :\n",
      "Index(['fixed acidity', 'residual sugar', 'chlorides', 'free sulfur dioxide',\n",
      "       'total sulfur dioxide', 'alcohol'],\n",
      "      dtype='object')\n"
     ]
    }
   ],
=======
   "execution_count": null,
   "metadata": {},
   "outputs": [],
   "source": [
    "print('Variables retenues pour la régression linéaire de la densité du :\\nVIN ROUGE :')\n",
    "print(X_density_RED.keys())\n",
    "print('\\nVIN BLANC :')\n",
    "print(X_density_WHITE.keys())"
   ]
  },
  {
   "cell_type": "markdown",
   "metadata": {},
   "source": [
    "On voit que pour le vin rouge comme pour le vin blanc, les variables concervées pour expliquer la dentité sont :\n",
    "- fixed acidity\n",
    "- residual sugar\n",
    "- chlorides\n",
    "- alcohol\n",
    "\n",
    "En revanche les varaibles :\n",
    "- citric acid\n",
    "- pH\n",
    "\n",
    "Ne sont présentent que dans dans les variables expliquatives de la dentité du vin rouge et celle :\n",
    "- free sulfur dioxide\n",
    "- total sulfur dioxide\n",
    "\n",
    "Que dans dans les variables expliquatives de la dentité du vin blanc."
   ]
  },
  {
   "cell_type": "markdown",
   "metadata": {},
   "source": [
    "# 2. Modélisation de la Densité du Vin"
   ]
  },
  {
   "cell_type": "markdown",
   "metadata": {},
   "source": [
    "Créeons notre model grâce à _statmodel_ et les variables que nous avons choisi de garder."
   ]
  },
  {
   "cell_type": "code",
   "execution_count": 63,
   "metadata": {},
   "outputs": [
    {
     "name": "stdout",
     "output_type": "stream",
     "text": [
      "                            OLS Regression Results                            \n",
      "==============================================================================\n",
      "Dep. Variable:                density   R-squared:                       0.829\n",
      "Model:                            OLS   Adj. R-squared:                  0.828\n",
      "Method:                 Least Squares   F-statistic:                     1284.\n",
      "Date:                Sat, 08 Jun 2024   Prob (F-statistic):               0.00\n",
      "Time:                        11:39:27   Log-Likelihood:                 9172.4\n",
      "No. Observations:                1599   AIC:                        -1.833e+04\n",
      "Df Residuals:                    1592   BIC:                        -1.829e+04\n",
      "Df Model:                           6                                         \n",
      "Covariance Type:            nonrobust                                         \n",
      "==================================================================================\n",
      "                     coef    std err          t      P>|t|      [0.025      0.975]\n",
      "----------------------------------------------------------------------------------\n",
      "const              0.9803      0.001   1381.183      0.000       0.979       0.982\n",
      "fixed acidity      0.0010    1.8e-05     52.930      0.000       0.001       0.001\n",
      "citric acid    -9.729e-05      0.000     -0.670      0.503      -0.000       0.000\n",
      "residual sugar     0.0004   1.41e-05     29.279      0.000       0.000       0.000\n",
      "chlorides          0.0039      0.000      8.734      0.000       0.003       0.005\n",
      "pH                 0.0050      0.000     27.151      0.000       0.005       0.005\n",
      "alcohol           -0.0009      2e-05    -45.841      0.000      -0.001      -0.001\n",
      "==============================================================================\n",
      "Omnibus:                       63.868   Durbin-Watson:                   1.641\n",
      "Prob(Omnibus):                  0.000   Jarque-Bera (JB):              168.037\n",
      "Skew:                           0.149   Prob(JB):                     3.24e-37\n",
      "Kurtosis:                       4.560   Cond. No.                         540.\n",
      "==============================================================================\n",
      "\n",
      "Notes:\n",
      "[1] Standard Errors assume that the covariance matrix of the errors is correctly specified.\n"
     ]
    }
   ],
   "source": [
    "# Ajout d’une constante pour l’intercept\n",
    "X = sm.add_constant(X_density_RED)\n",
    "# Ajustement du modèle\n",
    "model_red_density = sm.OLS(Y_density_RED, X).fit()\n",
    "# Affichage du résumé du modèle\n",
    "print(model_red_density.summary())"
   ]
  },
  {
   "cell_type": "markdown",
   "metadata": {},
   "source": [
    "Après cela, on enlève les occurences qui ont une distance de **Cook** trop importante. De ce fait on évite les valeurs qui ont un levier et un résidue importants. Celle-ci sont particulièrement problématiques puisqu'elles indiquent une mauvaise prédiction et une forte influence sur la ligne de régression.\n",
    "On utilise le critère stipulant que si la distance de Cook $d_{cook}$ :\n",
    "$$d_{cook}>\\frac{4}{n-k-1}$$\n",
    "on supprime la valeur correspondante. Avec :\n",
    "- $n$ : le nombre d'observations\n",
    "- $k$ : le nombre de variable explicative\n",
    "\n",
    "Pour cela on calcul les distance de Cook :"
   ]
  },
  {
   "cell_type": "code",
   "execution_count": 64,
   "metadata": {
    "scrolled": true
   },
   "outputs": [
    {
     "name": "stdout",
     "output_type": "stream",
     "text": [
      "Cook's distance: [6.05150788e-05 1.79624078e-04 1.35800997e-04 ... 4.08688424e-04\n",
      " 3.27885437e-05 9.04164325e-04]\n"
     ]
    }
   ],
   "source": [
    "influence = model_red_density.get_influence()\n",
    "d_cooks = influence.cooks_distance[0] # Pour ne garder que la distance de cook\n",
    "print(\"Cook's distance:\", d_cooks)"
   ]
  },
  {
   "cell_type": "markdown",
   "metadata": {},
   "source": [
    "Et on garde les indices des points problématiques."
   ]
  },
  {
   "cell_type": "code",
   "execution_count": 73,
   "metadata": {},
   "outputs": [
    {
     "name": "stdout",
     "output_type": "stream",
     "text": [
      "Nombre de donnée hautement influente :  107\n"
     ]
    }
   ],
   "source": [
    "# Seuil pour la distance de Cook\n",
    "n = len(d_cooks)\n",
    "k = len(X_density_RED.keys())\n",
    "threshold = 4/(n - k - 1)\n",
    "\n",
    "# Trouver les indices des observations ayant une distance de Cook trop élevée\n",
    "high_influence_points = np.where(d_cooks > threshold)[0]\n",
    "print('Nombre de donnée hautement influente : ', len(high_influence_points))"
   ]
  },
  {
   "cell_type": "markdown",
   "metadata": {},
   "source": [
    "On peut à présent filter nos données."
   ]
  },
  {
   "cell_type": "code",
   "execution_count": 71,
   "metadata": {},
   "outputs": [],
   "source": [
    "X_density_RED_clean = X_density_RED.drop(index=high_influence_points)\n",
    "Y_density_RED_clean = Y_density_RED.drop(index=high_influence_points)"
   ]
  },
  {
   "cell_type": "markdown",
   "metadata": {},
   "source": [
    "Puis refaire la regression."
   ]
  },
  {
   "cell_type": "code",
   "execution_count": 74,
   "metadata": {},
   "outputs": [
    {
     "name": "stdout",
     "output_type": "stream",
     "text": [
      "                            OLS Regression Results                            \n",
      "==============================================================================\n",
      "Dep. Variable:                density   R-squared:                       0.870\n",
      "Model:                            OLS   Adj. R-squared:                  0.869\n",
      "Method:                 Least Squares   F-statistic:                     1651.\n",
      "Date:                Sat, 08 Jun 2024   Prob (F-statistic):               0.00\n",
      "Time:                        11:52:36   Log-Likelihood:                 8911.2\n",
      "No. Observations:                1492   AIC:                        -1.781e+04\n",
      "Df Residuals:                    1485   BIC:                        -1.777e+04\n",
      "Df Model:                           6                                         \n",
      "Covariance Type:            nonrobust                                         \n",
      "==================================================================================\n",
      "                     coef    std err          t      P>|t|      [0.025      0.975]\n",
      "----------------------------------------------------------------------------------\n",
      "const              0.9809      0.001   1561.790      0.000       0.980       0.982\n",
      "fixed acidity      0.0009   1.65e-05     55.448      0.000       0.001       0.001\n",
      "citric acid     5.479e-05      0.000      0.446      0.656      -0.000       0.000\n",
      "residual sugar     0.0005   1.65e-05     29.740      0.000       0.000       0.001\n",
      "chlorides          0.0043      0.000      9.215      0.000       0.003       0.005\n",
      "pH                 0.0050      0.000     30.668      0.000       0.005       0.005\n",
      "alcohol           -0.0010   1.68e-05    -56.757      0.000      -0.001      -0.001\n",
      "==============================================================================\n",
      "Omnibus:                        4.857   Durbin-Watson:                   1.632\n",
      "Prob(Omnibus):                  0.088   Jarque-Bera (JB):                4.910\n",
      "Skew:                           0.129   Prob(JB):                       0.0859\n",
      "Kurtosis:                       2.887   Cond. No.                         585.\n",
      "==============================================================================\n",
      "\n",
      "Notes:\n",
      "[1] Standard Errors assume that the covariance matrix of the errors is correctly specified.\n"
     ]
    }
   ],
   "source": [
    "# Ajout d’une constante pour l’intercept\n",
    "X = sm.add_constant(X_density_RED_clean)\n",
    "# Ajustement du modèle\n",
    "model_red_density = sm.OLS(Y_density_RED_clean, X).fit()\n",
    "# Affichage du résumé du modèle\n",
    "print(model_red_density.summary())"
   ]
  },
  {
   "cell_type": "markdown",
   "metadata": {},
   "source": [
    "On voit que le $R^2$ ajusté est passé de 0.828 à 0.869. Cela signifie que notre model explique à présent 86% des données en supprimant celle qui on un résidu et un levier imporant contre 82% en conservant toutes les données. Ainsi au prix de 107 données, nous avons améliorée le model."
   ]
  },
  {
   "cell_type": "code",
   "execution_count": 75,
   "metadata": {},
   "outputs": [
    {
     "ename": "SyntaxError",
     "evalue": "invalid syntax (<unknown>, line 1)",
     "output_type": "error",
     "traceback": [
      "Traceback \u001b[1;36m(most recent call last)\u001b[0m:\n",
      "\u001b[0m  File \u001b[0;32m~\\anaconda3\\Lib\\site-packages\\IPython\\core\\interactiveshell.py:3553\u001b[0m in \u001b[0;35mrun_code\u001b[0m\n    exec(code_obj, self.user_global_ns, self.user_ns)\u001b[0m\n",
      "\u001b[0m  Cell \u001b[0;32mIn[75], line 22\u001b[0m\n    model = forward_selection(RED_WINE, 'density')\u001b[0m\n",
      "\u001b[0m  Cell \u001b[0;32mIn[75], line 10\u001b[0m in \u001b[0;35mforward_selection\u001b[0m\n    score = sm.OLS.from_formula(formula, data).fit().aic\u001b[0m\n",
      "\u001b[0m  File \u001b[0;32m~\\anaconda3\\Lib\\site-packages\\statsmodels\\base\\model.py:203\u001b[0m in \u001b[0;35mfrom_formula\u001b[0m\n    tmp = handle_formula_data(data, None, formula, depth=eval_env,\u001b[0m\n",
      "\u001b[0m  File \u001b[0;32m~\\anaconda3\\Lib\\site-packages\\statsmodels\\formula\\formulatools.py:63\u001b[0m in \u001b[0;35mhandle_formula_data\u001b[0m\n    result = dmatrices(formula, Y, depth, return_type='dataframe',\u001b[0m\n",
      "\u001b[0m  File \u001b[0;32m~\\anaconda3\\Lib\\site-packages\\patsy\\highlevel.py:309\u001b[0m in \u001b[0;35mdmatrices\u001b[0m\n    (lhs, rhs) = _do_highlevel_design(formula_like, data, eval_env,\u001b[0m\n",
      "\u001b[0m  File \u001b[0;32m~\\anaconda3\\Lib\\site-packages\\patsy\\highlevel.py:164\u001b[0m in \u001b[0;35m_do_highlevel_design\u001b[0m\n    design_infos = _try_incr_builders(formula_like, data_iter_maker, eval_env,\u001b[0m\n",
      "\u001b[0m  File \u001b[0;32m~\\anaconda3\\Lib\\site-packages\\patsy\\highlevel.py:66\u001b[0m in \u001b[0;35m_try_incr_builders\u001b[0m\n    return design_matrix_builders([formula_like.lhs_termlist,\u001b[0m\n",
      "\u001b[0m  File \u001b[0;32m~\\anaconda3\\Lib\\site-packages\\patsy\\build.py:689\u001b[0m in \u001b[0;35mdesign_matrix_builders\u001b[0m\n    factor_states = _factors_memorize(all_factors, data_iter_maker, eval_env)\u001b[0m\n",
      "\u001b[0m  File \u001b[0;32m~\\anaconda3\\Lib\\site-packages\\patsy\\build.py:354\u001b[0m in \u001b[0;35m_factors_memorize\u001b[0m\n    which_pass = factor.memorize_passes_needed(state, eval_env)\u001b[0m\n",
      "\u001b[0m  File \u001b[0;32m~\\anaconda3\\Lib\\site-packages\\patsy\\eval.py:478\u001b[0m in \u001b[0;35mmemorize_passes_needed\u001b[0m\n    subset_names = [name for name in ast_names(self.code)\u001b[0m\n",
      "\u001b[0m  File \u001b[0;32m~\\anaconda3\\Lib\\site-packages\\patsy\\eval.py:478\u001b[0m in \u001b[0;35m<listcomp>\u001b[0m\n    subset_names = [name for name in ast_names(self.code)\u001b[0m\n",
      "\u001b[0m  File \u001b[0;32m~\\anaconda3\\Lib\\site-packages\\patsy\\eval.py:109\u001b[0m in \u001b[0;35mast_names\u001b[0m\n    for node in ast.walk(ast.parse(code)):\u001b[0m\n",
      "\u001b[1;36m  File \u001b[1;32m~\\anaconda3\\Lib\\ast.py:50\u001b[1;36m in \u001b[1;35mparse\u001b[1;36m\n\u001b[1;33m    return compile(source, filename, mode, flags,\u001b[1;36m\n",
      "\u001b[1;36m  File \u001b[1;32m<unknown>:1\u001b[1;36m\u001b[0m\n\u001b[1;33m    residual sugar\u001b[0m\n\u001b[1;37m             ^\u001b[0m\n\u001b[1;31mSyntaxError\u001b[0m\u001b[1;31m:\u001b[0m invalid syntax\n"
     ]
    }
   ],
   "source": [
    "def forward_selection(data, response):\n",
    "    remaining = set(data.columns)\n",
    "    remaining.remove(response)\n",
    "    selected = []\n",
    "    current_score, best_new_score = float('inf'), float('inf')\n",
    "    while remaining and current_score == best_new_score:\n",
    "        scores_with_candidates = []\n",
    "        for candidate in remaining:\n",
    "            formula = \"{} ~ {}\".format(response, ' + '.join(selected + [candidate]))\n",
    "            score = sm.OLS.from_formula(formula, data).fit().aic\n",
    "            scores_with_candidates.append((score, candidate))\n",
    "        scores_with_candidates.sort()\n",
    "        best_new_score, best_candidate = scores_with_candidates.pop(0)\n",
    "        if current_score > best_new_score:\n",
    "            remaining.remove(best_candidate)\n",
    "            selected.append(best_candidate)\n",
    "            current_score = best_new_score\n",
    "    formula = \"{} ~ {}\".format(response, ' + '.join(selected))\n",
    "    model = sm.OLS.from_formula(formula, data).fit()\n",
    "    return model\n",
    "\n",
    "model = forward_selection(RED_WINE, 'density')\n",
    "print(model.summary())"
   ]
  },
  {
   "cell_type": "code",
   "execution_count": null,
   "metadata": {},
   "outputs": [],
   "source": []
  },
  {
   "cell_type": "markdown",
   "metadata": {},
   "source": [
    "# 3. Comparaison des Distributions de Variables Spécifiques"
   ]
  },
  {
   "cell_type": "markdown",
   "metadata": {},
   "source": [
    "- **Objectif** : Examiner comment les distributions des variables telles que le pH, la densité, et l'acidité volatile varient entre les vins rouges et blancs.\n",
    "- **Approche** : Utilisation de tests de normalité et d'analyse de variance (ANOVA) pour évaluer les différences statistiques entre les deux types de vin."
   ]
  },
  {
   "cell_type": "markdown",
   "metadata": {},
   "source": [
    "### Tests de normalité\n",
    "\n",
    "On vérifiera la normalité des distributions des variables catégorielles pH, densité ainsi que l'acidité volatile pour chacune des deux bases de données. On affichera alors pour chacune de ces 3 variables continues histogrammes, boxplots et qq-plot pour étudier la normalité de façon graphique."
   ]
  },
  {
   "cell_type": "code",
   "execution_count": null,
   "metadata": {},
   "outputs": [],
   "source": [
    "def plot_boxplot_histogram_qqplot(data, title, xlabel, ylabel):\n",
    "    plt.figure(figsize=(18, 6))\n",
    "\n",
    "    # Boxplot\n",
    "    plt.subplot(1, 3, 1)\n",
    "    sns.boxplot(y=data, color='lightblue', notch=True, flierprops={'marker':'o', 'markersize':8, 'markerfacecolor':'red'})\n",
    "    plt.title(f'Boxplot of {title}')\n",
    "    plt.ylabel(ylabel)\n",
    "\n",
    "    # Histogramme\n",
    "    plt.subplot(1, 3, 2)\n",
    "    sns.histplot(data, kde=False)\n",
    "    plt.title(f'Histogram of {title}')\n",
    "    plt.xlabel(xlabel)\n",
    "    plt.ylabel(ylabel)\n",
    "\n",
    "    # QQ Plot\n",
    "    plt.subplot(1, 3, 3)\n",
    "    sm.qqplot(data, line='s', ax=plt.gca())\n",
    "    plt.title(f'QQ Plot of {title}')\n",
    "    \n",
    "    # Ajout du titre global\n",
    "    plt.suptitle(title, fontsize=15, y=0.95)  \n",
    "    \n",
    "    plt.tight_layout(rect=[0, 0, 1, 0.96])  # Ajuster le layout pour le titre global\n",
    "    plt.show()"
   ]
  },
  {
   "cell_type": "code",
   "execution_count": null,
   "metadata": {},
   "outputs": [],
   "source": [
    "datasets = [(RED_WINE, 'RED WINE'), (WHITE_WINE, 'WHITE WINE')]\n",
    "\n",
    "features = [('pH', 'pH', 'Count'), ('density', 'density', 'Count'), ('volatile acidity', 'volatile acidity', 'Count')]\n",
    "\n",
    "for dataset, dataset_name in datasets:\n",
    "    for feature, xlabel, ylabel in features:\n",
    "        title = f'{dataset_name} : {feature}'\n",
    "        plot_boxplot_histogram_qqplot(dataset[feature], title, xlabel, ylabel)"
   ]
  },
  {
   "cell_type": "markdown",
   "metadata": {},
   "source": [
    "On observe un nombre important de données abérante / atypiques visualisables sur les boxplots par les données présentes à l'extrérieur des moustaches pour chacune des 3 variables ici étudiées. \n",
    "On observe de plus que les jeux de données de pH et de densité sont proches d'une loi normale à partir des qq-plot car les points s'alligne sur la droite Y = X malgré un comportement différent d'une distrubution normales aux odnnées extrêmes. On remarque également la distribution de ces variables sur les histogrammes.\n",
    "La variable d'acidité volatile ne suit pas une loi normale."
   ]
  },
  {
   "cell_type": "markdown",
   "metadata": {},
   "source": [
    "On vérifie à présent cette normalité à partir d'un test de Shapiro Wilk, pour les varibles continues de densité et de pH :"
   ]
  },
  {
   "cell_type": "code",
   "execution_count": null,
   "metadata": {},
   "outputs": [],
   "source": [
    "def shapiro_wilk_test(data, title):\n",
    "    \n",
    "    data_clean = data.dropna()#remove NaN (missed) values which can't be handled by the Shapiro-wilk\n",
    "    stat, p_value = shapiro(data_clean)#perfirming the shapiro wilk test\n",
    "    \n",
    "    #interpreting the result\n",
    "    alpha = 0.05\n",
    "    if p_value>alpha:\n",
    "        print(f'{title} looks Gaussian (fail to reject H0)')\n",
    "    else:\n",
    "        print(f'{title} does not look Gaussian (reject H0)')\n",
    "        \n",
    "    return stat, p_value"
   ]
  },
  {
   "cell_type": "code",
   "execution_count": null,
   "metadata": {},
   "outputs": [],
   "source": [
    "print('\\nRED WINE :')\n",
    "shapiro_wilk_test(WHITE_WINE['volatile acidity'], 'volatile_acidity')\n",
    "shapiro_wilk_test(WHITE_WINE['pH'], 'pH')\n",
    "print('\\nWHITE WINE :')\n",
    "shapiro_wilk_test(RED_WINE['volatile acidity'], 'volatile_acidity')\n",
    "shapiro_wilk_test(RED_WINE['pH'], 'pH')"
   ]
  },
  {
   "cell_type": "markdown",
   "metadata": {},
   "source": [
    "Ainsi, d'après le test de Shapiro, pour une erreur de première espèce de 5%, l'hypothèse de normalités significatives des distributions de densitié et de pH sont rejetées. Rejet dû aux valeurs particulières de notre jeu de données."
   ]
  },
  {
   "cell_type": "markdown",
   "metadata": {},
   "source": [
    "### Création d'une variable catégorielle de qualité\n",
    "\n",
    "On commence par créer une variable catégorielle pour l'indice de qualité à partir de la variable discontinue 'Quality' de données comprises en 0 et 10. La qualité des vins pourra prendre 3 valeurs catégorielle parmis 'good', 'medium' et 'bad'."
   ]
  },
  {
   "cell_type": "code",
   "execution_count": null,
   "metadata": {},
   "outputs": [],
   "source": [
    "def map_quality(value):\n",
    "    if value >= 7:\n",
    "        return \"good\"\n",
    "    elif value >= 5:\n",
    "        return \"medium\"\n",
    "    else:\n",
    "        return \"bad\""
   ]
  },
  {
   "cell_type": "markdown",
   "metadata": {},
   "source": [
    "On crée ensuite une copie des 2 bases de données et on applique la fonction de création de la variable quatégorielle à la colonne contenant la variable discontinue de qualité :"
   ]
  },
  {
   "cell_type": "code",
   "execution_count": null,
   "metadata": {},
   "outputs": [],
   "source": [
    "all_data_red = RED_WINE.copy()\n",
    "all_data_red['categorized quality'] = all_data_red['quality'].apply(map_quality)\n",
    "\n",
    "all_data_white = WHITE_WINE.copy()\n",
    "all_data_white['categorized quality'] = all_data_white['quality'].apply(map_quality)"
   ]
  },
  {
   "cell_type": "markdown",
   "metadata": {},
   "source": [
    "On crée une fonction permettant l'affichage de variables discontinue avec des diagrammes en bâtons. On affiche alors des diagrammes bâtons pour les variables de qualité des deux bases de données."
   ]
  },
  {
   "cell_type": "code",
   "execution_count": null,
   "metadata": {},
   "outputs": [],
   "source": [
    "def bar_plot_discrete_variables(data, title, xlabel, ylabel = 'Frequency'):\n",
    "    #diagramme en batons\n",
    "    frequencies = data.value_counts(normalize=True)\n",
    "    sns.barplot(x=frequencies.index, y=frequencies.values)\n",
    "    plt.title(f'Bar plot : {ylabel} of {xlabel}')\n",
    "    plt.xlabel(xlabel)\n",
    "    plt.ylabel(ylabel)\n",
    "    #plt.xticks(rotation=45)  # Rotation des étiquettes sur l'axe des x pour une meilleure lisibilité\n",
    "    plt.suptitle(f'{title}', fontsize=15, y=0.97)  # Ajout du titre global\n",
    "    plt.tight_layout()\n",
    "    plt.show()"
   ]
  },
  {
   "cell_type": "code",
   "execution_count": null,
   "metadata": {},
   "outputs": [],
   "source": [
    "bar_plot_discrete_variables(WHITE_WINE['quality'], 'White wine : quality', 'quality')\n",
    "bar_plot_discrete_variables(RED_WINE['quality'], 'Red wine : quality', 'quality')"
   ]
  },
  {
   "cell_type": "markdown",
   "metadata": {},
   "source": [
    "On crée maintenant une fonction affichant un camembert des variables catégorielles de qualités précédemment crées :"
   ]
  },
  {
   "cell_type": "code",
   "execution_count": null,
   "metadata": {},
   "outputs": [],
   "source": [
    "def plot_Categorial_distribution(data, title):\n",
    "    frequencies = data.value_counts(normalize=True)\n",
    "    fig, ax = plt.subplots(2,1,figsize=(12,6))\n",
    "    ax[0].pie(frequencies, labels=frequencies.index, autopct='%1.1f%%')\n",
    "    ax[0].set_title(f'Pie Chart of {title}')\n",
    "    sns.barplot(x=frequencies.index, y=frequencies.values, ax=ax[1])\n",
    "    ax[1].set_title(f'Bar Chart of {title}')\n",
    "    plt.suptitle(f'Variable catégorielle : {title}', fontsize=15, y=0.97)  # Ajout du titre global\n",
    "    plt.tight_layout()\n",
    "    plt.show()"
   ]
  },
  {
   "cell_type": "code",
   "execution_count": null,
   "metadata": {},
   "outputs": [],
   "source": [
    "plot_Categorial_distribution(all_data_white['categorized quality'], 'White wine : categorized quality')\n",
    "plot_Categorial_distribution(all_data_red['categorized quality'], 'Red wine : categorized quality')"
   ]
  },
  {
   "cell_type": "markdown",
   "metadata": {},
   "source": [
    "### Table de l'ANOVA\n",
    "\n",
    "On sépare la population en 3 groupes en fonction de la qualité. Le premier groupe comprendra les vins de bonne qualité, le second ceux de qualité médium et le dernier les vins de mauvaise qualité en se servant de la varibale catégorielle précédemment créée.\n",
    "\n",
    "On définit l'hypothèse nulle et l'hypotèse alternative comme ci-dessous :\n",
    " - **H0** : les densités moyennes des 3 groupes sont égales\n",
    " - **H1** : Au moins 2 groupes on des densités moyennes différentes\n",
    "\n",
    "On réalise l'analyse ANOVA sur les deux bases de données pour étudier la relation entre la densité des vins rouges et leur qualité catégorisée. La fonction prend database comme paramètre et retourne les résultats de l'ANOVA ainsi que l'interprétation des résultats."
   ]
  },
  {
   "cell_type": "code",
   "execution_count": null,
   "metadata": {},
   "outputs": [],
   "source": [
    "from statsmodels.formula.api import ols\n",
    "\n",
    "def analyze_wine_density(database, name):\n",
    "    # Définir le modèle\n",
    "    model = ols(\"density ~ Q('categorized quality')\", data=database).fit()\n",
    "    \n",
    "    # Effectuer l'ANOVA\n",
    "    anova_table = sm.stats.anova_lm(model, typ=2)\n",
    "    print(f'\\nTableau ANOVA {name} :')\n",
    "    print(anova_table)\n",
    "    \n",
    "    # Extraire les groupes de densité selon la qualité catégorisée\n",
    "    quality_density = {\n",
    "        'good': database[database['categorized quality'] == 'good']['density'],\n",
    "        'medium': database[database['categorized quality'] == 'medium']['density'],\n",
    "        'bad': database[database['categorized quality'] == 'bad']['density']\n",
    "    }\n",
    "    \n",
    "    # Effectuer le test ANOVA\n",
    "    f_value, p_value = stats.f_oneway(\n",
    "        quality_density['good'], \n",
    "        quality_density['medium'], \n",
    "        quality_density['bad']\n",
    "    )\n",
    "    \n",
    "    print(f'\\nValeur F : {f_value:0.4f}, Valeur p : {p_value:.2e}')\n",
    "    \n",
    "    # Interprétation des résultats\n",
    "    alpha = 0.05\n",
    "    if p_value < alpha:\n",
    "        interpretation = (\n",
    "            \"Au risque de première espèce de 5%, la densité moyenne diffère significativement \"\n",
    "            \"entre les vins des 3 indexs de qualité.\"\n",
    "        )\n",
    "    else:\n",
    "        interpretation = (\n",
    "            \"Au risque de 5%, il n'y a aucune différence significative des densités \"\n",
    "            \"entre les vins des 3 indexs de qualité.\"\n",
    "        )\n",
    "    \n",
    "    print(interpretation)\n",
    "    return\n"
   ]
  },
  {
   "cell_type": "code",
   "execution_count": null,
   "metadata": {},
   "outputs": [],
   "source": [
    "analyze_wine_density(all_data_red, \"Vins rouges\")\n",
    "analyze_wine_density(all_data_white, \"Vins blancs\")"
   ]
  },
  {
   "cell_type": "markdown",
   "metadata": {},
   "source": [
    "Ainsi, on rejette l'hypothèse H0 au risque de première espèce de 5% dans les deux cas. Au moins de groupes de qualités différentes ont des densités significativements différentes."
   ]
  }
 ],
 "metadata": {
  "kernelspec": {
   "display_name": "Python 3 (ipykernel)",
   "language": "python",
   "name": "python3"
  },
  "language_info": {
   "codemirror_mode": {
    "name": "ipython",
    "version": 3
   },
   "file_extension": ".py",
   "mimetype": "text/x-python",
   "name": "python",
   "nbconvert_exporter": "python",
   "pygments_lexer": "ipython3",
   "version": "3.12.0"
  }
 },
 "nbformat": 4,
 "nbformat_minor": 4
}
